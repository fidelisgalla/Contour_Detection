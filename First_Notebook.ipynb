{
  "nbformat": 4,
  "nbformat_minor": 0,
  "metadata": {
    "colab": {
      "name": "First Notebook.ipynb",
      "provenance": [],
      "collapsed_sections": [],
      "toc_visible": true,
      "authorship_tag": "ABX9TyM59el/DgFODU8ybEqUevnc",
      "include_colab_link": true
    },
    "kernelspec": {
      "name": "python3",
      "display_name": "Python 3"
    }
  },
  "cells": [
    {
      "cell_type": "markdown",
      "metadata": {
        "id": "view-in-github",
        "colab_type": "text"
      },
      "source": [
        "<a href=\"https://colab.research.google.com/github/fidelisgalla/Contour_Detection/blob/master/First_Notebook.ipynb\" target=\"_parent\"><img src=\"https://colab.research.google.com/assets/colab-badge.svg\" alt=\"Open In Colab\"/></a>"
      ]
    },
    {
      "cell_type": "markdown",
      "metadata": {
        "id": "Q9Omdt2S4F09"
      },
      "source": [
        "## 1. Creating Simple Code\n",
        "Simple mathematic operation"
      ]
    },
    {
      "cell_type": "code",
      "metadata": {
        "id": "Mzf6uLf84FYr"
      },
      "source": [
        "a=5"
      ],
      "execution_count": null,
      "outputs": []
    },
    {
      "cell_type": "code",
      "metadata": {
        "id": "kRiSkCah4E7b"
      },
      "source": [
        "b=5"
      ],
      "execution_count": null,
      "outputs": []
    },
    {
      "cell_type": "code",
      "metadata": {
        "id": "9zzQCWWNAW6r"
      },
      "source": [
        "c = a+b"
      ],
      "execution_count": null,
      "outputs": []
    },
    {
      "cell_type": "code",
      "metadata": {
        "id": "gcDHEsZoAa2q"
      },
      "source": [
        "print(c)"
      ],
      "execution_count": null,
      "outputs": []
    },
    {
      "cell_type": "markdown",
      "metadata": {
        "id": "dOu1lsFO4cQG"
      },
      "source": [
        "## 2. Creating Simple Graph\n",
        "Creating graph\n"
      ]
    },
    {
      "cell_type": "code",
      "metadata": {
        "id": "cqcY_QWGqLHS"
      },
      "source": [
        "# import library\n",
        "import numpy as np\n",
        "import seaborn\n",
        "from matplotlib import pyplot as plt"
      ],
      "execution_count": null,
      "outputs": []
    },
    {
      "cell_type": "code",
      "metadata": {
        "id": "5W67LLs83_jp"
      },
      "source": [
        "# create some data\n",
        "data = {'a': np.arange(50),\n",
        "        'c': np.random.randint(0, 50, 50),\n",
        "        'd': np.random.randn(50)}\n",
        "data['b'] = data['a'] + 10 * np.random.randn(50)\n",
        "data['d'] = np.abs(data['d']) * 100\n",
        "\n",
        "plt.scatter('a', 'b', c='c', s='d', data=data)\n",
        "plt.xlabel('entry a')\n",
        "plt.ylabel('entry b')\n",
        "plt.show()\n"
      ],
      "execution_count": null,
      "outputs": []
    },
    {
      "cell_type": "markdown",
      "metadata": {
        "id": "FvE6Guo5zF4n"
      },
      "source": [
        "## 3. Taking File From G Drive"
      ]
    },
    {
      "cell_type": "code",
      "metadata": {
        "id": "RoDQeguWzNhC"
      },
      "source": [
        "%pwd"
      ],
      "execution_count": null,
      "outputs": []
    },
    {
      "cell_type": "code",
      "metadata": {
        "id": "w9ed1R-81w3g"
      },
      "source": [
        "%cd ..\n",
        "from google.colab import drive\n",
        "drive.mount('/content/gdrive')"
      ],
      "execution_count": null,
      "outputs": []
    },
    {
      "cell_type": "code",
      "metadata": {
        "id": "TUmS4XS72KX3"
      },
      "source": [
        "# this creates a symbolic link so that now the path /content/gdrive/My\\ Drive/ is equal to /mydrive\n",
        "!ln -s /content/gdrive/My\\ Drive/ /mydrive #ln is used as symbolic link\n",
        "!ls /mydrive #ls is used same with DIR in windows"
      ],
      "execution_count": null,
      "outputs": []
    },
    {
      "cell_type": "code",
      "metadata": {
        "id": "EXwE2jNNE_5A",
        "outputId": "11a7e2d5-3cc9-4de9-d1b6-382f5317821f",
        "colab": {
          "base_uri": "https://localhost:8080/",
          "height": 51
        }
      },
      "source": [
        "#look the content of folder\n",
        "!ls /mydrive/yolov4"
      ],
      "execution_count": 10,
      "outputs": [
        {
          "output_type": "stream",
          "text": [
            "backup\t\t  generate_train.py  obj.names\tTest1.py  yolov4-obj.cfg\n",
            "generate_test.py  obj.data\t     obj.zip\ttest.zip\n"
          ],
          "name": "stdout"
        }
      ]
    },
    {
      "cell_type": "code",
      "metadata": {
        "id": "-7aoww4BvKGc",
        "outputId": "ef112aab-f50a-484e-b07e-f294e8fff58b",
        "colab": {
          "base_uri": "https://localhost:8080/",
          "height": 34
        }
      },
      "source": [
        "!python /mydrive/yolov4/Test1.py"
      ],
      "execution_count": 11,
      "outputs": [
        {
          "output_type": "stream",
          "text": [
            "hello world\n"
          ],
          "name": "stdout"
        }
      ]
    },
    {
      "cell_type": "code",
      "metadata": {
        "id": "u-9rNHfovgPE"
      },
      "source": [
        "!cp /mydrive/yolov4/Test1.py ./"
      ],
      "execution_count": 13,
      "outputs": []
    },
    {
      "cell_type": "code",
      "metadata": {
        "id": "CGJUeO49vkfe"
      },
      "source": [
        "!cp /mydrive/yolov4/Test1.py ./content"
      ],
      "execution_count": 14,
      "outputs": []
    }
  ]
}